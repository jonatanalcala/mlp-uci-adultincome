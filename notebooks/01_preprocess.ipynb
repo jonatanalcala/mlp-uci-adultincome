{
 "cells": [
  {
   "cell_type": "markdown",
   "id": "524a5d9b",
   "metadata": {},
   "source": [
    "# Data Preprocessing\n",
    "\n",
    "Before we preprocess our data that is going to be used to train and test our machine learning algorithms we first have to ensure our data is consistant and of high quality, so we have to ensure optimal performance. We will have to do the following:\n",
    "\n",
    "- Handle missing values.\n",
    "- Encode categorical features.\n",
    "- Standardize numerical features.\n",
    "\n",
    "We will be using the `preprocess()` function we built for a previous project that using the same data."
   ]
  },
  {
   "cell_type": "markdown",
   "id": "9058b6f1",
   "metadata": {},
   "source": [
    "---"
   ]
  },
  {
   "cell_type": "markdown",
   "id": "16b275d0",
   "metadata": {},
   "source": [
    "## Importing Libraries"
   ]
  },
  {
   "cell_type": "code",
   "execution_count": 2,
   "id": "57c7dccf",
   "metadata": {},
   "outputs": [],
   "source": [
    "import pandas as pd\n",
    "import numpy as np\n",
    "from sklearn.preprocessing import StandardScaler"
   ]
  },
  {
   "cell_type": "markdown",
   "id": "b51def3c",
   "metadata": {
    "vscode": {
     "languageId": "plaintext"
    }
   },
   "source": [
    "## ``Preprocess()`` Function"
   ]
  },
  {
   "cell_type": "code",
   "execution_count": 3,
   "id": "5bfa065b",
   "metadata": {},
   "outputs": [],
   "source": [
    "def preprocess_data(df: pd.DataFrame, scaler: StandardScaler | None = None):\n",
    "    \"\"\"\n",
    "    Preprocessing for the Adult Income flat file.\n",
    "\n",
    "    - Strip strings, turn '?' -> 'Unknown'\n",
    "    - Keep all rows (do not drop missing placeholders)\n",
    "    - Drop 'education' (keep 'education-num')\n",
    "    - One-hot encode categoricals\n",
    "    - Encode target 'income' to {<=50K:0, >50K:1} if present\n",
    "    - Standardize numeric columns (fit on train if scaler is None; otherwise transform)\n",
    "\n",
    "    Returns\n",
    "    -------\n",
    "    X : DataFrame\n",
    "    y : Series | None\n",
    "    scaler : StandardScaler\n",
    "    \"\"\"\n",
    "    import pandas as pd\n",
    "    from sklearn.preprocessing import StandardScaler\n",
    "\n",
    "    # fixed columns\n",
    "    cat_cols = ['workclass', 'education', 'marital-status', 'occupation',\n",
    "                'relationship', 'race', 'sex', 'native-country']\n",
    "    num_cols = ['age', 'fnlwgt', 'education-num', 'capital-gain',\n",
    "                'capital-loss', 'hours-per-week']\n",
    "\n",
    "    df = df.copy()\n",
    "    has_target = 'income' in df.columns\n",
    "\n",
    "    # 1) clean strings/placeholders\n",
    "    for c in df.select_dtypes(include=\"object\").columns:\n",
    "        df[c] = df[c].map(lambda x: x.strip() if isinstance(x, str) else x)\n",
    "    df.replace('?', 'Unknown', inplace=True)\n",
    "\n",
    "    # 2) drop redundant education\n",
    "    if 'education' in df.columns:\n",
    "        df.drop(columns=['education'], inplace=True, errors='ignore')\n",
    "\n",
    "    # 3) one-hot encode categoricals\n",
    "    ohe_cols = [c for c in cat_cols if c != 'education' and c in df.columns]\n",
    "    if ohe_cols:\n",
    "        df = pd.get_dummies(df, columns=ohe_cols, dtype=int)\n",
    "\n",
    "    # 4) split target\n",
    "    y = None\n",
    "    if has_target:\n",
    "        df['income'] = df['income'].map({'>50K': 1, '<=50K': 0})\n",
    "        y = df['income'].astype('int64')\n",
    "        X = df.drop(columns=['income'])\n",
    "    else:\n",
    "        X = df\n",
    "\n",
    "    # 5) standardize numerics\n",
    "    present_num = [c for c in num_cols if c in X.columns]\n",
    "    fitted_scaler = scaler or StandardScaler()\n",
    "    if present_num:\n",
    "        X.loc[:, present_num] = X.loc[:, present_num].astype('float64', copy=False)\n",
    "        if scaler is None:\n",
    "            X.loc[:, present_num] = fitted_scaler.fit_transform(X.loc[:, present_num])\n",
    "        else:\n",
    "            X.loc[:, present_num] = fitted_scaler.transform(X.loc[:, present_num])\n",
    "\n",
    "    return X, y, fitted_scaler"
   ]
  }
 ],
 "metadata": {
  "kernelspec": {
   "display_name": "DASC41103",
   "language": "python",
   "name": "python3"
  },
  "language_info": {
   "codemirror_mode": {
    "name": "ipython",
    "version": 3
   },
   "file_extension": ".py",
   "mimetype": "text/x-python",
   "name": "python",
   "nbconvert_exporter": "python",
   "pygments_lexer": "ipython3",
   "version": "3.12.11"
  }
 },
 "nbformat": 4,
 "nbformat_minor": 5
}
