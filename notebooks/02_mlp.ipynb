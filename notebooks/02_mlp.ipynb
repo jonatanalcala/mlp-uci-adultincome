{
 "cells": [
  {
   "cell_type": "markdown",
   "id": "eeaee8e3",
   "metadata": {},
   "source": [
    "# Multilayer Perceptron (MLP) Model\n",
    "\n",
    "For this section of the project, we will train, test, and evaluate a Multilayer Perceptron (MLP) model using PyTorch, leveraging core modules such as `torch`, `torch.nn`, `torch.optim`, and `torch.utils.data` for model construction, optimization, and data handling. The UCI Adult Income dataset will serve as our dataset for classification.\n",
    "\n",
    "We will accomplish the following in this notebook:\n",
    "\n",
    "- Load & preprocess the dataset\n",
    "- Train and test MLP model on dataset while tunning parameters to develop multiple candidates\n",
    "- Evaluate models using appropriate metrics\n",
    "- Select thge most promising model\n",
    "- Predict response variable for validation inputs by using most promising model\n",
    "- Monitor and mitigate overfitting"
   ]
  },
  {
   "cell_type": "markdown",
   "id": "0564a852",
   "metadata": {},
   "source": [
    "---"
   ]
  },
  {
   "cell_type": "markdown",
   "id": "080f1f7d",
   "metadata": {},
   "source": [
    "## 1. Load & Preprocess Data\n",
    "\n",
    "We load the UCI Adult Income dataset, clean it, encode categorical variables, scale numerical features, and split features/labels. We also standardize continuous columns using `StandardScaler` from `sklearn` so that the MLP can train more efficiently in PyTorch."
   ]
  },
  {
   "cell_type": "code",
   "execution_count": 38,
   "id": "ada0bc98",
   "metadata": {},
   "outputs": [],
   "source": [
    "import pandas as pd\n",
    "from sklearn.preprocessing import StandardScaler\n",
    "from sklearn.model_selection import train_test_split\n",
    "\n",
    "def preprocess_data(df: pd.DataFrame, scaler: StandardScaler | None = None):\n",
    "    \"\"\"\n",
    "    Preprocessing for the Adult Income flat file.\n",
    "\n",
    "    - Strip strings, turn '?' -> 'Unknown'\n",
    "    - Keep all rows (do not drop missing placeholders)\n",
    "    - Drop 'education' (keep 'education-num')\n",
    "    - One-hot encode categoricals\n",
    "    - Encode target 'income' to {<=50K:0, >50K:1} if present\n",
    "    - Standardize numeric columns (fit on train if scaler is None; otherwise transform)\n",
    "\n",
    "    Returns\n",
    "    -------\n",
    "    X : DataFrame\n",
    "    y : Series | None\n",
    "    scaler : StandardScaler\n",
    "    \"\"\"\n",
    "    # fixed columns\n",
    "    cat_cols = ['workclass', 'education', 'marital-status', 'occupation',\n",
    "                'relationship', 'race', 'sex', 'native-country']\n",
    "    num_cols = ['age', 'fnlwgt', 'education-num', 'capital-gain',\n",
    "                'capital-loss', 'hours-per-week']\n",
    "\n",
    "    df = df.copy()\n",
    "    has_target = 'income' in df.columns\n",
    "\n",
    "    # 1) clean strings/placeholders\n",
    "    for c in df.select_dtypes(include=\"object\").columns:\n",
    "        df[c] = df[c].map(lambda x: x.strip() if isinstance(x, str) else x)\n",
    "    df.replace('?', 'Unknown', inplace=True)\n",
    "\n",
    "    # 2) drop redundant education (keep 'education-num')\n",
    "    if 'education' in df.columns:\n",
    "        df.drop(columns=['education'], inplace=True, errors='ignore')\n",
    "\n",
    "    # 3) one-hot encode categoricals\n",
    "    ohe_cols = [c for c in cat_cols if c != 'education' and c in df.columns]\n",
    "    if ohe_cols:\n",
    "        df = pd.get_dummies(df, columns=ohe_cols, dtype=int)\n",
    "\n",
    "    # 4) split target\n",
    "    y = None\n",
    "    if has_target:\n",
    "        df['income'] = df['income'].map({'>50K': 1, '<=50K': 0})\n",
    "        y = df['income'].astype('int64')\n",
    "        X = df.drop(columns=['income'])\n",
    "    else:\n",
    "        X = df\n",
    "\n",
    "    # 5) standardize numerics (no dtype warning fix)\n",
    "    present_num = [c for c in num_cols if c in X.columns]\n",
    "    fitted_scaler = scaler or StandardScaler()\n",
    "    if present_num:\n",
    "        # get numeric block as float\n",
    "        numeric_block = X.loc[:, present_num].astype('float64', copy=True)\n",
    "\n",
    "        if scaler is None:\n",
    "            scaled_vals = fitted_scaler.fit_transform(numeric_block)\n",
    "        else:\n",
    "            scaled_vals = fitted_scaler.transform(numeric_block)\n",
    "\n",
    "        # assign back column-by-column to avoid dtype conflict\n",
    "        for i, col in enumerate(present_num):\n",
    "            X[col] = scaled_vals[:, i]\n",
    "\n",
    "    return X, y, fitted_scaler"
   ]
  },
  {
   "cell_type": "markdown",
   "id": "b3f96e49",
   "metadata": {},
   "source": [
    "Now, we will **load the raw dataset** and **split it into training and validation sets**. We’ll then **apply the** `preprocess_data()` function to both sets to clean, encode, and standardize the data for model training."
   ]
  },
  {
   "cell_type": "code",
   "execution_count": 39,
   "id": "14e27276",
   "metadata": {},
   "outputs": [
    {
     "name": "stdout",
     "output_type": "stream",
     "text": [
      "X_train shape: (20838, 91)\n",
      "X_val shape:   (5210, 91)\n",
      "y_train dist:\n",
      " income\n",
      "0    0.759286\n",
      "1    0.240714\n",
      "Name: proportion, dtype: float64\n"
     ]
    }
   ],
   "source": [
    "# Load data\n",
    "adult_df = pd.read_csv('../data/raw/project_adult.csv', index_col=0)\n",
    "\n",
    "# Train/Validation split\n",
    "train_df, val_df = train_test_split(adult_df, test_size=0.2, random_state=42, stratify=adult_df[\"income\"])\n",
    "\n",
    "# Preprocess (Fit scaler on train & Reuse scaler on val)\n",
    "X_train, y_train, scaler = preprocess_data(train_df, scaler=None)\n",
    "X_val, y_val, _ = preprocess_data(val_df, scaler=scaler)\n",
    "\n",
    "# Align columns between train and val \n",
    "train_cols = X_train.columns\n",
    "\n",
    "# Reindex validation to match training columns exactly\n",
    "X_val = X_val.reindex(columns=train_cols, fill_value=0)\n",
    "\n",
    "print(\"X_train shape:\", X_train.shape)\n",
    "print(\"X_val shape:  \", X_val.shape)\n",
    "print(\"y_train dist:\\n\", y_train.value_counts(normalize=True).rename(\"proportion\"))"
   ]
  },
  {
   "cell_type": "markdown",
   "id": "e25daccf",
   "metadata": {},
   "source": [
    "Saving preprocessed dataframes:"
   ]
  },
  {
   "cell_type": "code",
   "execution_count": 40,
   "id": "0ab218fc",
   "metadata": {},
   "outputs": [
    {
     "name": "stdout",
     "output_type": "stream",
     "text": [
      "Preprocessed data saved in: C:\\Users\\jonat\\Desktop\\Fall 2025\\Machine Learning\\mlp-uci-adultincome\\data\\processed\n"
     ]
    }
   ],
   "source": [
    "from pathlib import Path\n",
    "\n",
    "# Ensure processed folder exists (one level up)\n",
    "processed_path = Path(\"../data/processed\")\n",
    "processed_path.mkdir(parents=True, exist_ok=True)\n",
    "\n",
    "# Save preprocessed datasets\n",
    "X_train.to_csv(processed_path / \"X_train.csv\", index=False)\n",
    "y_train.to_csv(processed_path / \"y_train.csv\", index=False)\n",
    "X_val.to_csv(processed_path / \"X_val.csv\", index=False)\n",
    "y_val.to_csv(processed_path / \"y_val.csv\", index=False)\n",
    "\n",
    "print(f\"Preprocessed data saved in: {processed_path.resolve()}\")"
   ]
  },
  {
   "cell_type": "markdown",
   "id": "3ca806bd",
   "metadata": {},
   "source": [
    "Next step:\n",
    "\n",
    "- We'll convert `X_train`, `y_train`, `X_val`, `y_val` to PyTorch tensors and wrap them in `TensorDataset` / `DataLoader`."
   ]
  },
  {
   "cell_type": "markdown",
   "id": "08c522af",
   "metadata": {},
   "source": [
    "---\n",
    "\n",
    "## 2. Prepare Data for PyTorch\n",
    "\n",
    "In this section, we will convert our preprocessed training and validation datasets into **PyTorch tensors** and wrap them into **DataLoaders** for efficient mini-batch training. DataLoaders handle batching, shuffling, and parallel loading, which helps improve training performance."
   ]
  },
  {
   "cell_type": "code",
   "execution_count": 41,
   "id": "572448e7",
   "metadata": {},
   "outputs": [
    {
     "name": "stdout",
     "output_type": "stream",
     "text": [
      "Training batches: 326\n",
      "Validation batches: 82\n"
     ]
    }
   ],
   "source": [
    "import torch\n",
    "from torch.utils.data import TensorDataset, DataLoader\n",
    "\n",
    "# Convert data to torch tensors\n",
    "X_train_tensor = torch.tensor(X_train.values, dtype=torch.float32)\n",
    "y_train_tensor = torch.tensor(y_train.values, dtype=torch.long)\n",
    "\n",
    "X_val_tensor = torch.tensor(X_val.values, dtype=torch.float32)\n",
    "y_val_tensor = torch.tensor(y_val.values, dtype=torch.long)\n",
    "\n",
    "# Create TensorDataset objects\n",
    "train_dataset = TensorDataset(X_train_tensor, y_train_tensor)\n",
    "val_dataset = TensorDataset(X_val_tensor, y_val_tensor)\n",
    "\n",
    "# Create DataLoaders\n",
    "batch_size = 64  # common starting point; we'll tune this later\n",
    "train_loader = DataLoader(train_dataset, batch_size=batch_size, shuffle=True)\n",
    "val_loader = DataLoader(val_dataset, batch_size=batch_size, shuffle=False)\n",
    "\n",
    "print(f\"Training batches: {len(train_loader)}\")\n",
    "print(f\"Validation batches: {len(val_loader)}\")"
   ]
  },
  {
   "cell_type": "markdown",
   "id": "62d2c778",
   "metadata": {},
   "source": [
    "For our batch size we went with **64** since its the most common starting point. we will tune this later to see if we observe better results. "
   ]
  },
  {
   "cell_type": "markdown",
   "id": "c8f28a27",
   "metadata": {},
   "source": [
    "In the next section we will define the actual MLP architecture in PyTorch (`nn.Module`), including layers, activations, and dropout. We'll also record input_dim and output_dim from the data so the model builds itself correctly."
   ]
  },
  {
   "cell_type": "markdown",
   "id": "04facae5",
   "metadata": {},
   "source": [
    "---\n",
    "\n",
    "## 3. Define the MLP Architecture\n",
    "\n",
    "We define a feedforward neural network (Multilayer Perceptron) in PyTorch using `torch.nn.Module`. The model consists of fully connected (`Linear`) layers with ReLU activations and dropout for regularization. The final layer outputs class logits for binary classification (>50K vs <=50K).\n"
   ]
  },
  {
   "cell_type": "markdown",
   "id": "ba01154a",
   "metadata": {},
   "source": [
    "We will build the following:\n",
    "- An input layer that matches the number of features in `X_train`\n",
    "- Two hidden layers (we'll tune this later)\n",
    "- Dropout to help reduce **overfitting**\n",
    "- An output layer of size 2 (because we have two classes)\n",
    "\n",
    "We'll also capture `input_dim` and `output_dim` directly from the data so it's not hardcoded."
   ]
  },
  {
   "cell_type": "code",
   "execution_count": 42,
   "id": "ec014a4e",
   "metadata": {},
   "outputs": [
    {
     "name": "stdout",
     "output_type": "stream",
     "text": [
      "MLP(\n",
      "  (net): Sequential(\n",
      "    (0): Linear(in_features=91, out_features=128, bias=True)\n",
      "    (1): ReLU()\n",
      "    (2): Dropout(p=0.3, inplace=False)\n",
      "    (3): Linear(in_features=128, out_features=64, bias=True)\n",
      "    (4): ReLU()\n",
      "    (5): Dropout(p=0.3, inplace=False)\n",
      "    (6): Linear(in_features=64, out_features=2, bias=True)\n",
      "  )\n",
      ")\n"
     ]
    }
   ],
   "source": [
    "import torch.nn as nn\n",
    "\n",
    "input_dim = X_train.shape[1]   # number of features after preprocessing\n",
    "hidden_dim1 = 128              # wil tune\n",
    "hidden_dim2 = 64               # wil tune\n",
    "output_dim = 2                 # binary classification (>50K vs <=50K)\n",
    "dropout_p = 0.3                # wil tune\n",
    "\n",
    "class MLP(nn.Module):\n",
    "    def __init__(self, input_dim, hidden_dim1, hidden_dim2, output_dim, dropout_p=0.3):\n",
    "        super().__init__()\n",
    "        self.net = nn.Sequential(\n",
    "            nn.Linear(input_dim, hidden_dim1),\n",
    "            nn.ReLU(),\n",
    "            nn.Dropout(dropout_p),\n",
    "\n",
    "            nn.Linear(hidden_dim1, hidden_dim2),\n",
    "            nn.ReLU(),\n",
    "            nn.Dropout(dropout_p),\n",
    "\n",
    "            nn.Linear(hidden_dim2, output_dim)\n",
    "        )\n",
    "\n",
    "    def forward(self, x):\n",
    "        return self.net(x)\n",
    "\n",
    "model = MLP(\n",
    "    input_dim=input_dim,\n",
    "    hidden_dim1=hidden_dim1,\n",
    "    hidden_dim2=hidden_dim2,\n",
    "    output_dim=output_dim,\n",
    "    dropout_p=dropout_p\n",
    ")\n",
    "\n",
    "print(model)"
   ]
  },
  {
   "cell_type": "markdown",
   "id": "da7e6d11",
   "metadata": {},
   "source": [
    "We are going to be outputting raw logits, not probabilities. That means during training we'll use `nn.CrossEntropyloss`, which expects class indices (`0`/`1`) and raw logits.\n",
    "\n",
    "We added dropout so we start to address overfitting. "
   ]
  },
  {
   "cell_type": "markdown",
   "id": "43852575",
   "metadata": {},
   "source": [
    "---\n",
    "\n",
    "## 4. Train the Model\n",
    "\n",
    "Next, we’ll configure our training process. We’ll define the loss function, optimizer, and device setup (CPU or GPU).  \n",
    "We’ll then train the model over multiple epochs, tracking both training and validation performance at each step.  \n",
    "All hyperparameters (learning rate, epochs, etc.) will be tuned later for optimization."
   ]
  },
  {
   "cell_type": "code",
   "execution_count": 43,
   "id": "8175bf47",
   "metadata": {},
   "outputs": [
    {
     "name": "stdout",
     "output_type": "stream",
     "text": [
      "Using device: cpu\n",
      "Epoch [1/20] | Train Loss: 0.3587 | Val Loss: 0.3221 | Val Acc: 0.8501\n",
      "Epoch [2/20] | Train Loss: 0.3163 | Val Loss: 0.3131 | Val Acc: 0.8468\n",
      "Epoch [3/20] | Train Loss: 0.3116 | Val Loss: 0.3159 | Val Acc: 0.8493\n",
      "Epoch [4/20] | Train Loss: 0.3081 | Val Loss: 0.3125 | Val Acc: 0.8493\n",
      "Epoch [5/20] | Train Loss: 0.3074 | Val Loss: 0.3126 | Val Acc: 0.8488\n",
      "Epoch [6/20] | Train Loss: 0.3030 | Val Loss: 0.3110 | Val Acc: 0.8484\n",
      "Epoch [7/20] | Train Loss: 0.3025 | Val Loss: 0.3129 | Val Acc: 0.8507\n",
      "Epoch [8/20] | Train Loss: 0.3011 | Val Loss: 0.3119 | Val Acc: 0.8503\n",
      "Epoch [9/20] | Train Loss: 0.2997 | Val Loss: 0.3115 | Val Acc: 0.8503\n",
      "Epoch [10/20] | Train Loss: 0.2961 | Val Loss: 0.3113 | Val Acc: 0.8514\n",
      "Epoch [11/20] | Train Loss: 0.2958 | Val Loss: 0.3170 | Val Acc: 0.8512\n",
      "Epoch [12/20] | Train Loss: 0.2936 | Val Loss: 0.3132 | Val Acc: 0.8518\n",
      "Epoch [13/20] | Train Loss: 0.2927 | Val Loss: 0.3136 | Val Acc: 0.8497\n",
      "Epoch [14/20] | Train Loss: 0.2925 | Val Loss: 0.3132 | Val Acc: 0.8512\n",
      "Epoch [15/20] | Train Loss: 0.2906 | Val Loss: 0.3165 | Val Acc: 0.8505\n",
      "Epoch [16/20] | Train Loss: 0.2877 | Val Loss: 0.3175 | Val Acc: 0.8511\n",
      "Epoch [17/20] | Train Loss: 0.2890 | Val Loss: 0.3187 | Val Acc: 0.8507\n",
      "Epoch [18/20] | Train Loss: 0.2847 | Val Loss: 0.3183 | Val Acc: 0.8495\n",
      "Epoch [19/20] | Train Loss: 0.2826 | Val Loss: 0.3187 | Val Acc: 0.8489\n",
      "Epoch [20/20] | Train Loss: 0.2831 | Val Loss: 0.3205 | Val Acc: 0.8484\n",
      "Training complete!\n"
     ]
    }
   ],
   "source": [
    "import torch.optim as optim\n",
    "\n",
    "# Device setup\n",
    "device = torch.device(\"cuda\" if torch.cuda.is_available() else \"cpu\")\n",
    "print(f\"Using device: {device}\")\n",
    "\n",
    "# Move model to device\n",
    "model = model.to(device)\n",
    "\n",
    "# Loss function & optimizer\n",
    "criterion = nn.CrossEntropyLoss()\n",
    "optimizer = optim.Adam(model.parameters(), lr=0.001)  # tune later\n",
    "\n",
    "# Training loop\n",
    "num_epochs = 20  # tune later\n",
    "train_losses, val_losses = [], []\n",
    "\n",
    "for epoch in range(num_epochs):\n",
    "    model.train()\n",
    "    running_loss = 0.0\n",
    "\n",
    "    for X_batch, y_batch in train_loader:\n",
    "        X_batch, y_batch = X_batch.to(device), y_batch.to(device)\n",
    "\n",
    "        optimizer.zero_grad()\n",
    "        outputs = model(X_batch)\n",
    "        loss = criterion(outputs, y_batch)\n",
    "        loss.backward()\n",
    "        optimizer.step()\n",
    "\n",
    "        running_loss += loss.item()\n",
    "\n",
    "    # validation\n",
    "    model.eval()\n",
    "    val_loss = 0.0\n",
    "    correct = 0\n",
    "    total = 0\n",
    "\n",
    "    with torch.no_grad():\n",
    "        for X_batch, y_batch in val_loader:\n",
    "            X_batch, y_batch = X_batch.to(device), y_batch.to(device)\n",
    "            outputs = model(X_batch)\n",
    "            loss = criterion(outputs, y_batch)\n",
    "            val_loss += loss.item()\n",
    "\n",
    "            _, predicted = torch.max(outputs, 1)\n",
    "            total += y_batch.size(0)\n",
    "            correct += (predicted == y_batch).sum().item()\n",
    "\n",
    "    train_losses.append(running_loss / len(train_loader))\n",
    "    val_losses.append(val_loss / len(val_loader))\n",
    "    val_accuracy = correct / total\n",
    "\n",
    "    print(f\"Epoch [{epoch+1}/{num_epochs}] | \"\n",
    "          f\"Train Loss: {train_losses[-1]:.4f} | \"\n",
    "          f\"Val Loss: {val_losses[-1]:.4f} | \"\n",
    "          f\"Val Acc: {val_accuracy:.4f}\")\n",
    "\n",
    "print(\"Training complete!\")\n"
   ]
  },
  {
   "cell_type": "markdown",
   "id": "2f292270",
   "metadata": {},
   "source": [
    "### Training Log Insights\n",
    "\n",
    "- Validation accuracy **~85%** and it's pretty stable (0.8470 → 0.8516).\n",
    "- Train loss keeps going down (0.3577 → 0.2816).\n",
    "- Val loss goes down at first, then starts slightly going up around epoch 8+ (0.3273 → 0.3120 → ~0.320+).\n",
    "    - Train loss declines steadily\n",
    "    - Val loss declines then increases\n",
    "    - Val accuracy stays flat\n",
    "    - This pattern is indicating early sings of **overfitting**. The model is starting to memorize, not generalize, after ~10 epochs."
   ]
  },
  {
   "cell_type": "markdown",
   "id": "ecb077d8",
   "metadata": {},
   "source": [
    "Next we will calculate final evaluation metrics on the validation set & generate plots that will help us evaluate our model. "
   ]
  },
  {
   "cell_type": "markdown",
   "id": "6bc32028",
   "metadata": {},
   "source": [
    "---\n",
    "\n",
    "## 5. Model Evaluation and Diagnostics\n",
    "\n",
    "We evaluate the trained MLP on the validation set using accuracy, precision, recall, F1-score, and the confusion matrix. We also visualize training dynamics by plotting training vs. validation loss across epochs to check for overfitting.\n"
   ]
  },
  {
   "cell_type": "code",
   "execution_count": 44,
   "id": "c30c374e",
   "metadata": {},
   "outputs": [
    {
     "name": "stdout",
     "output_type": "stream",
     "text": [
      "Validation Accuracy: 0.8484\n",
      "Precision (income >50K): 0.7533\n",
      "Recall    (income >50K): 0.5502\n",
      "F1        (income >50K): 0.6359\n",
      "\n",
      "Full classification report:\n",
      "              precision    recall  f1-score   support\n",
      "\n",
      "       <=50K       0.87      0.94      0.90      3956\n",
      "        >50K       0.75      0.55      0.64      1254\n",
      "\n",
      "    accuracy                           0.85      5210\n",
      "   macro avg       0.81      0.75      0.77      5210\n",
      "weighted avg       0.84      0.85      0.84      5210\n",
      "\n"
     ]
    },
    {
     "data": {
      "image/png": "[encoded data removed]",
      "text/plain": [
       "<Figure size 640x480 with 2 Axes>"
      ]
     },
     "metadata": {},
     "output_type": "display_data"
    }
   ],
   "source": [
    "from sklearn.metrics import accuracy_score, precision_recall_fscore_support, confusion_matrix, classification_report\n",
    "import numpy as np\n",
    "import matplotlib.pyplot as plt\n",
    "\n",
    "model.eval()\n",
    "\n",
    "all_preds = []\n",
    "all_true = []\n",
    "\n",
    "with torch.no_grad():\n",
    "    for X_batch, y_batch in val_loader:\n",
    "        X_batch = X_batch.to(device)\n",
    "        y_batch = y_batch.to(device)\n",
    "\n",
    "        outputs = model(X_batch)                   # logits\n",
    "        _, predicted = torch.max(outputs, dim=1)   # class indices\n",
    "\n",
    "        all_preds.append(predicted.cpu().numpy())\n",
    "        all_true.append(y_batch.cpu().numpy())\n",
    "\n",
    "y_true = np.concatenate(all_true)\n",
    "y_pred = np.concatenate(all_preds)\n",
    "\n",
    "# Basic metrics\n",
    "acc = accuracy_score(y_true, y_pred)\n",
    "precision, recall, f1, _ = precision_recall_fscore_support(\n",
    "    y_true, y_pred, average='binary', pos_label=1\n",
    ")\n",
    "\n",
    "print(f\"Validation Accuracy: {acc:.4f}\")\n",
    "print(f\"Precision (income >50K): {precision:.4f}\")\n",
    "print(f\"Recall    (income >50K): {recall:.4f}\")\n",
    "print(f\"F1        (income >50K): {f1:.4f}\")\n",
    "\n",
    "print(\"\\nFull classification report:\")\n",
    "print(classification_report(y_true, y_pred, target_names=[\"<=50K\", \">50K\"]))\n",
    "\n",
    "# Confusion matrix\n",
    "cm = confusion_matrix(y_true, y_pred)\n",
    "\n",
    "fig, ax = plt.subplots()\n",
    "im = ax.imshow(cm, cmap=\"Blues\")\n",
    "ax.set_title(\"Confusion Matrix\")\n",
    "ax.set_xlabel(\"Predicted label\")\n",
    "ax.set_ylabel(\"True label\")\n",
    "ax.set_xticks([0, 1])\n",
    "ax.set_yticks([0, 1])\n",
    "ax.set_xticklabels([\"<=50K\", \">50K\"])\n",
    "ax.set_yticklabels([\"<=50K\", \">50K\"])\n",
    "\n",
    "# annotate cells\n",
    "for i in range(cm.shape[0]):\n",
    "    for j in range(cm.shape[1]):\n",
    "        ax.text(j, i, cm[i, j], ha=\"center\", va=\"center\", color=\"black\")\n",
    "\n",
    "plt.colorbar(im, ax=ax)\n",
    "plt.show()\n"
   ]
  },
  {
   "cell_type": "markdown",
   "id": "cc2b5348",
   "metadata": {},
   "source": [
    "We have a strong baseline for an untuned MLP.\n",
    "- **Validation Accuracy**: 0.85 → The model correctly classifies ~85% of validation samples.\n",
    "- **Macro Avg F1**: 0.77 → Balanced performance across both classes, considering dataset imbalance.\n",
    "- The model is **very strong on the majority class (≤50K)**.\n",
    "- For **>50K**, it’s more cautious — when it predicts >50K, it’s right 75% of the time, but it misses ~45% of true >50K cases (recall = 0.55).\n",
    "- This asymmetry is expected since the dataset is **class-imbalanced** (roughly 3:1).\n",
    "\n",
    "Confusion Matrix:\n",
    "- The model **rarely misclassifies low-income individuals** (564 false positives)."
   ]
  },
  {
   "cell_type": "code",
   "execution_count": 45,
   "id": "2cde252a",
   "metadata": {},
   "outputs": [
    {
     "data": {
      "image/png": "[encoded data removed]",
      "text/plain": [
       "<Figure size 640x480 with 1 Axes>"
      ]
     },
     "metadata": {},
     "output_type": "display_data"
    }
   ],
   "source": [
    "plt.figure()\n",
    "plt.plot(train_losses, label=\"Train Loss\")\n",
    "plt.plot(val_losses, label=\"Val Loss\")\n",
    "plt.xlabel(\"Epoch\")\n",
    "plt.ylabel(\"Loss\")\n",
    "plt.title(\"Training vs Validation Loss\")\n",
    "plt.legend()\n",
    "plt.show()"
   ]
  },
  {
   "cell_type": "markdown",
   "id": "7915c571",
   "metadata": {},
   "source": [
    "- Training loss steadily decreases across epochs, showing the model is learning effectively.\n",
    "\n",
    "- Validation loss initially drops but begins to fluctuate and rise slightly after ~8–10 epochs, suggesting the model starts to overfit beyond that point.\n",
    "\n",
    "- The overall gap between training and validation loss remains small, indicating moderate generalization with only mild overfitting."
   ]
  },
  {
   "cell_type": "markdown",
   "id": "820c0a2b",
   "metadata": {},
   "source": [
    "**Takeaway**\n",
    "\n",
    "The model generalizes well without significant overfitting (val loss remains stable).\n",
    "\n",
    "Future improvement can come from:\n",
    "- Tuning learning rate, batch size, and dropout.\n",
    "- Trying class weighting or oversampling (e.g., WeightedRandomSampler).\n",
    "- Early stopping around epoch 8–10 or applying stronger regularization (e.g., higher dropout) could further improve generalization without sacrificing accuracy."
   ]
  },
  {
   "cell_type": "markdown",
   "id": "77e0b9d8",
   "metadata": {},
   "source": [
    "---\n",
    "\n",
    "## 6. Hyperparameter Tuning & Candidate Models\n",
    "\n",
    "In this section, we train multiple MLP candidates by varying key hyperparameters and evaluate each on the validation set.  \n",
    "The goal is to identify which configuration best balances accuracy and generalization before selecting our final model.\n",
    "\n",
    "We tune the following parameters:\n",
    "- **Hidden layer sizes**\n",
    "- **Dropout probability**\n",
    "- **Learning rate**\n",
    "- **Activation function** (ReLU, LeakyReLU, Tanh)\n",
    "\n",
    "For each candidate, we record:\n",
    "- Training and validation loss across epochs  \n",
    "- Final validation accuracy  \n",
    "\n",
    "We then visualize and compare all candidate performances."
   ]
  },
  {
   "cell_type": "markdown",
   "id": "e193d2f3",
   "metadata": {},
   "source": [
    "This class defines a **Multilayer Perceptron (MLP)** architecture that supports configurable activation functions. It consists of two hidden layers with optional dropout regularization applied after each activation. By allowing the activation type (e.g., ReLU, LeakyReLU, Tanh) to be passed as a parameter, this design enables flexible experimentation during hyperparameter tuning."
   ]
  },
  {
   "cell_type": "code",
   "execution_count": 46,
   "id": "862f0d0d",
   "metadata": {},
   "outputs": [],
   "source": [
    "# MLP supporting configurable activation\n",
    "class MLP(nn.Module):\n",
    "    def __init__(self, input_dim, hidden_dim1, hidden_dim2, output_dim,\n",
    "                 dropout_p=0.3, activation=nn.ReLU()):\n",
    "        super().__init__()\n",
    "        self.net = nn.Sequential(\n",
    "            nn.Linear(input_dim, hidden_dim1),\n",
    "            activation,\n",
    "            nn.Dropout(dropout_p),\n",
    "\n",
    "            nn.Linear(hidden_dim1, hidden_dim2),\n",
    "            activation.__class__(),   # reuse same activation type\n",
    "            nn.Dropout(dropout_p),\n",
    "\n",
    "            nn.Linear(hidden_dim2, output_dim)\n",
    "        )\n",
    "\n",
    "    def forward(self, x):\n",
    "        return self.net(x)"
   ]
  },
  {
   "cell_type": "markdown",
   "id": "b754f4e7",
   "metadata": {},
   "source": [
    "This helper function trains and evaluates a single MLP candidate using the specified hyperparameters. It performs multiple training epochs, tracks training and validation loss, and computes validation accuracy at each step. After training, it returns the model’s learning history (losses and accuracies) along with the final validation accuracy for comparison across candidates."
   ]
  },
  {
   "cell_type": "code",
   "execution_count": 47,
   "id": "f43f1c3a",
   "metadata": {},
   "outputs": [],
   "source": [
    "# Train/evaluate helper\n",
    "def train_and_eval_candidate(hidden_dim1, hidden_dim2, dropout_p, lr,\n",
    "                             activation, num_epochs=12):\n",
    "    model = MLP(input_dim, hidden_dim1, hidden_dim2,\n",
    "                output_dim, dropout_p, activation).to(device)\n",
    "\n",
    "    criterion = nn.CrossEntropyLoss()\n",
    "    optimizer = optim.Adam(model.parameters(), lr=lr)\n",
    "\n",
    "    train_losses, val_losses, val_accs = [], [], []\n",
    "\n",
    "    for _ in range(num_epochs):\n",
    "        model.train()\n",
    "        running_loss = 0.0\n",
    "        for Xb, yb in train_loader:\n",
    "            Xb, yb = Xb.to(device), yb.to(device)\n",
    "            optimizer.zero_grad()\n",
    "            out = model(Xb)\n",
    "            loss = criterion(out, yb)\n",
    "            loss.backward()\n",
    "            optimizer.step()\n",
    "            running_loss += loss.item()\n",
    "        train_loss = running_loss / len(train_loader)\n",
    "\n",
    "        # ---- validation ----\n",
    "        model.eval()\n",
    "        val_loss, correct, total = 0.0, 0, 0\n",
    "        with torch.no_grad():\n",
    "            for Xb, yb in val_loader:\n",
    "                Xb, yb = Xb.to(device), yb.to(device)\n",
    "                out = model(Xb)\n",
    "                loss = criterion(out, yb)\n",
    "                val_loss += loss.item()\n",
    "                _, pred = torch.max(out, 1)\n",
    "                total += yb.size(0)\n",
    "                correct += (pred == yb).sum().item()\n",
    "        val_loss /= len(val_loader)\n",
    "        val_acc = correct / total\n",
    "\n",
    "        train_losses.append(train_loss)\n",
    "        val_losses.append(val_loss)\n",
    "        val_accs.append(val_acc)\n",
    "\n",
    "    history = {\n",
    "        \"train_losses\": train_losses,\n",
    "        \"val_losses\": val_losses,\n",
    "        \"val_accs\": val_accs,\n",
    "        \"model\": deepcopy(model)\n",
    "    }\n",
    "    return history, val_accs[-1]"
   ]
  },
  {
   "cell_type": "markdown",
   "id": "366a1639",
   "metadata": {},
   "source": [
    "We define a set of MLP \"candidates,\" where each candidate represents a different neural network configuration.  \n",
    "For each candidate, we vary:\n",
    "- Hidden layer sizes (`h1`, `h2`)\n",
    "- Dropout rate (`drop`)\n",
    "- Learning rate (`lr`)\n",
    "- Activation function (`act`)\n",
    "\n",
    "We then train each candidate for a fixed number of epochs, evaluate it on the validation set, and store its final validation accuracy, along with its training/validation loss history. The results are collected into a summary table (`results_df`) so we can compare models.\n",
    "\n",
    "The chosen candidates are designed to test:\n",
    "- **Network capacity**  \n",
    "  - Smaller network (128 → 64) vs larger network (256 → 128) lets us see if adding more hidden units improves performance or just overfits.\n",
    "- **Regularization strength**  \n",
    "  - Dropout 0.30 vs 0.40 checks how much dropout we need to control overfitting.\n",
    "- **Learning dynamics**  \n",
    "  - Learning rate 0.001 vs 0.0005 tests convergence speed and stability.\n",
    "- **Activation behavior**  \n",
    "  - ReLU (standard baseline), LeakyReLU (addresses dead ReLUs and can improve minority-class recall), and Tanh (smooth, bounded activation) let us see how nonlinearities affect accuracy.\n",
    "\n",
    "In other words, instead of randomly guessing hyperparameters, we are systematically exploring depth/width, regularization, learning rate, and activation — four of the most important levers for MLP performance on tabular data.\n"
   ]
  },
  {
   "cell_type": "code",
   "execution_count": 48,
   "id": "03740c6f",
   "metadata": {},
   "outputs": [
    {
     "name": "stdout",
     "output_type": "stream",
     "text": [
      "\n",
      "Training candidate A with ReLU\n",
      "\n",
      "Training candidate B with ReLU\n",
      "\n",
      "Training candidate C with LeakyReLU\n",
      "\n",
      "Training candidate D with LeakyReLU\n",
      "\n",
      "Training candidate E with Tanh\n"
     ]
    },
    {
     "data": {
      "text/html": [
       "<div>\n",
       "<style scoped>\n",
       "    .dataframe tbody tr th:only-of-type {\n",
       "        vertical-align: middle;\n",
       "    }\n",
       "\n",
       "    .dataframe tbody tr th {\n",
       "        vertical-align: top;\n",
       "    }\n",
       "\n",
       "    .dataframe thead th {\n",
       "        text-align: right;\n",
       "    }\n",
       "</style>\n",
       "<table border=\"1\" class=\"dataframe\">\n",
       "  <thead>\n",
       "    <tr style=\"text-align: right;\">\n",
       "      <th></th>\n",
       "      <th>Candidate</th>\n",
       "      <th>Hidden1</th>\n",
       "      <th>Hidden2</th>\n",
       "      <th>Dropout</th>\n",
       "      <th>LR</th>\n",
       "      <th>Activation</th>\n",
       "      <th>Final Val Acc</th>\n",
       "    </tr>\n",
       "  </thead>\n",
       "  <tbody>\n",
       "    <tr>\n",
       "      <th>0</th>\n",
       "      <td>C</td>\n",
       "      <td>128</td>\n",
       "      <td>64</td>\n",
       "      <td>0.4</td>\n",
       "      <td>0.0010</td>\n",
       "      <td>LeakyReLU</td>\n",
       "      <td>0.850480</td>\n",
       "    </tr>\n",
       "    <tr>\n",
       "      <th>1</th>\n",
       "      <td>B</td>\n",
       "      <td>256</td>\n",
       "      <td>128</td>\n",
       "      <td>0.3</td>\n",
       "      <td>0.0010</td>\n",
       "      <td>ReLU</td>\n",
       "      <td>0.850096</td>\n",
       "    </tr>\n",
       "    <tr>\n",
       "      <th>2</th>\n",
       "      <td>A</td>\n",
       "      <td>128</td>\n",
       "      <td>64</td>\n",
       "      <td>0.3</td>\n",
       "      <td>0.0010</td>\n",
       "      <td>ReLU</td>\n",
       "      <td>0.849520</td>\n",
       "    </tr>\n",
       "    <tr>\n",
       "      <th>3</th>\n",
       "      <td>D</td>\n",
       "      <td>256</td>\n",
       "      <td>128</td>\n",
       "      <td>0.4</td>\n",
       "      <td>0.0005</td>\n",
       "      <td>LeakyReLU</td>\n",
       "      <td>0.849520</td>\n",
       "    </tr>\n",
       "    <tr>\n",
       "      <th>4</th>\n",
       "      <td>E</td>\n",
       "      <td>128</td>\n",
       "      <td>64</td>\n",
       "      <td>0.3</td>\n",
       "      <td>0.0010</td>\n",
       "      <td>Tanh</td>\n",
       "      <td>0.844914</td>\n",
       "    </tr>\n",
       "  </tbody>\n",
       "</table>\n",
       "</div>"
      ],
      "text/plain": [
       "  Candidate  Hidden1  Hidden2  Dropout      LR Activation  Final Val Acc\n",
       "0         C      128       64      0.4  0.0010  LeakyReLU       0.850480\n",
       "1         B      256      128      0.3  0.0010       ReLU       0.850096\n",
       "2         A      128       64      0.3  0.0010       ReLU       0.849520\n",
       "3         D      256      128      0.4  0.0005  LeakyReLU       0.849520\n",
       "4         E      128       64      0.3  0.0010       Tanh       0.844914"
      ]
     },
     "execution_count": 48,
     "metadata": {},
     "output_type": "execute_result"
    }
   ],
   "source": [
    "# Candidate configurations\n",
    "candidates = [\n",
    "    {\"name\": \"A\", \"h1\":128, \"h2\":64,  \"drop\":0.30, \"lr\":0.001, \"act\":nn.ReLU()},\n",
    "    {\"name\": \"B\", \"h1\":256, \"h2\":128, \"drop\":0.30, \"lr\":0.001, \"act\":nn.ReLU()},\n",
    "    {\"name\": \"C\", \"h1\":128, \"h2\":64,  \"drop\":0.40, \"lr\":0.001, \"act\":nn.LeakyReLU(0.1)},\n",
    "    {\"name\": \"D\", \"h1\":256, \"h2\":128, \"drop\":0.40, \"lr\":0.0005,\"act\":nn.LeakyReLU(0.1)},\n",
    "    {\"name\": \"E\", \"h1\":128, \"h2\":64,  \"drop\":0.30, \"lr\":0.001, \"act\":nn.Tanh()},\n",
    "]\n",
    "\n",
    "histories, scores = [], []\n",
    "\n",
    "for cfg in candidates:\n",
    "    print(f\"\\nTraining candidate {cfg['name']} with {cfg['act'].__class__.__name__}\")\n",
    "    hist, acc = train_and_eval_candidate(cfg[\"h1\"], cfg[\"h2\"],\n",
    "                                         cfg[\"drop\"], cfg[\"lr\"],\n",
    "                                         cfg[\"act\"], num_epochs=12)\n",
    "    hist[\"name\"], hist[\"cfg\"], hist[\"acc\"] = cfg[\"name\"], cfg, acc\n",
    "    histories.append(hist)\n",
    "    scores.append({\n",
    "        \"Candidate\": cfg[\"name\"],\n",
    "        \"Hidden1\": cfg[\"h1\"],\n",
    "        \"Hidden2\": cfg[\"h2\"],\n",
    "        \"Dropout\": cfg[\"drop\"],\n",
    "        \"LR\": cfg[\"lr\"],\n",
    "        \"Activation\": cfg[\"act\"].__class__.__name__,\n",
    "        \"Final Val Acc\": acc\n",
    "    })\n",
    "\n",
    "results_df = pd.DataFrame(scores).sort_values(\"Final Val Acc\", ascending=False)\n",
    "results_df.reset_index(drop=True, inplace=True)\n",
    "results_df"
   ]
  },
  {
   "cell_type": "markdown",
   "id": "ae37cdfc",
   "metadata": {},
   "source": [
    "All five MLP candidates achieved strong and consistent validation performance, with accuracies tightly clustered between 0.8449–0.8507, indicating stable model behavior across architectures.\n",
    "\n",
    "**Candidate B (256–128, ReLU, dropout=0.3)** achieved the highest validation accuracy (0.8507), demonstrating that a deeper ReLU network with moderate regularization captures more complex relationships without overfitting.\n",
    "\n",
    "LeakyReLU variants (C and D) performed almost identically, suggesting activation choice had minimal impact under these conditions, while the Tanh model (E) slightly underperformed—consistent with its slower convergence and smaller effective gradient range.\n",
    "\n",
    "Overall, **Candidate B** provides the best balance of depth, activation stability, and generalization."
   ]
  },
  {
   "cell_type": "markdown",
   "id": "9ce02585",
   "metadata": {},
   "source": [
    "### Visualizations"
   ]
  },
  {
   "cell_type": "code",
   "execution_count": 49,
   "id": "12db36f5",
   "metadata": {},
   "outputs": [
    {
     "data": {
      "image/png": "[encoded data removed]",
      "text/plain": [
       "<Figure size 600x400 with 1 Axes>"
      ]
     },
     "metadata": {},
     "output_type": "display_data"
    }
   ],
   "source": [
    "plt.figure(figsize=(6,4))\n",
    "plt.bar(results_df[\"Candidate\"], results_df[\"Final Val Acc\"], color=\"steelblue\")\n",
    "plt.ylim(0.80, 0.90)\n",
    "plt.xlabel(\"Model Candidate\")\n",
    "plt.ylabel(\"Final Validation Accuracy\")\n",
    "plt.title(\"Validation Accuracy by Candidate\")\n",
    "for i, v in enumerate(results_df[\"Final Val Acc\"]):\n",
    "    plt.text(i, v + 0.002, f\"{v:.3f}\", ha=\"center\", fontsize=9)\n",
    "plt.show()\n"
   ]
  },
  {
   "cell_type": "code",
   "execution_count": 50,
   "id": "f8a7a985",
   "metadata": {},
   "outputs": [
    {
     "data": {
      "image/png": "[encoded data removed]",
      "text/plain": [
       "<Figure size 600x400 with 1 Axes>"
      ]
     },
     "metadata": {},
     "output_type": "display_data"
    }
   ],
   "source": [
    "plt.figure(figsize=(6,4))\n",
    "for h in histories:\n",
    "    lbl = f\"{h['name']} ({h['cfg']['act'].__class__.__name__})\"\n",
    "    plt.plot(h[\"val_losses\"], label=lbl)\n",
    "plt.xlabel(\"Epoch\")\n",
    "plt.ylabel(\"Validation Loss\")\n",
    "plt.title(\"Validation Loss Curves by Candidate\")\n",
    "plt.legend()\n",
    "plt.show()\n"
   ]
  },
  {
   "cell_type": "markdown",
   "id": "3d90c54a",
   "metadata": {},
   "source": [
    "All models show a consistent downward trend in validation loss during early epochs, indicating effective learning and stable convergence.\n",
    "\n",
    "Candidate B (ReLU) maintains one of the lowest and most stable validation losses, suggesting strong generalization, while Tanh (E) exhibits persistently higher loss and volatility—confirming slower and less reliable convergence."
   ]
  },
  {
   "cell_type": "code",
   "execution_count": 51,
   "id": "487f62fc",
   "metadata": {},
   "outputs": [
    {
     "data": {
      "image/png": "[encoded data removed]",
      "text/plain": [
       "<Figure size 600x400 with 1 Axes>"
      ]
     },
     "metadata": {},
     "output_type": "display_data"
    }
   ],
   "source": [
    "plt.figure(figsize=(6,4))\n",
    "for h in histories:\n",
    "    plt.plot(h[\"train_losses\"], linestyle=\"--\", label=f\"{h['name']} Train\")\n",
    "plt.xlabel(\"Epoch\")\n",
    "plt.ylabel(\"Training Loss\")\n",
    "plt.title(\"Training Loss Curves by Candidate\")\n",
    "plt.legend()\n",
    "plt.show()\n"
   ]
  },
  {
   "cell_type": "markdown",
   "id": "198c0f48",
   "metadata": {},
   "source": [
    "Training losses decrease smoothly across all candidates, showing proper optimization and no signs of divergence or instability.\n",
    "\n",
    "Candidate B again demonstrates the most efficient and consistent reduction in loss, while Tanh (E) plateaus early, implying weaker gradient flow and limited capacity to capture complex patterns."
   ]
  },
  {
   "cell_type": "markdown",
   "id": "347fde53",
   "metadata": {},
   "source": [
    "**Evaluation of Candidate Models**\n",
    "\n",
    "- **Candidate B (ReLU, larger 256–128 network)** achieved the highest validation accuracy (≈ 0.851) and showed consistently low validation loss — indicating the best balance between capacity and generalization.\n",
    "\n",
    "- **Candidates C & D (LeakyReLU)** performed nearly as well, with smoother validation loss curves and no signs of overfitting, confirming LeakyReLU’s stability.\n",
    "\n",
    "- **Candidate E (Tanh)** underperformed slightly, showing higher and more volatile loss — suggesting slower convergence.\n",
    "\n",
    "- **Training curves** show all models converged steadily with minimal overfitting, and the larger ReLU model (B) reached the lowest training loss.\n",
    "\n",
    "**Takeaway:**\n",
    "Candidate B offers the best trade-off between accuracy, stability, and training efficiency, making it the most promising configuration for final retraining."
   ]
  },
  {
   "cell_type": "markdown",
   "id": "c44ca18e",
   "metadata": {},
   "source": [
    "---\n",
    "\n",
    "## 7. Model Selection & Final Training\n",
    "\n",
    "Based on validation accuracy and stability across epochs, **Candidate B (ReLU, hidden layers 256–128, dropout 0.30, lr = 0.001)** achieved the best overall performance.  \n",
    "It slightly outperformed the baseline MLP and other candidates, while maintaining smooth loss curves and no evidence of overfitting.\n",
    "\n",
    "We will now:\n",
    "1. Re-train this best configuration for more epochs to confirm convergence.  \n",
    "2. Compare its final performance metrics against the original baseline MLP.  \n",
    "3. Save the final trained model for inference."
   ]
  },
  {
   "cell_type": "code",
   "execution_count": 52,
   "id": "d68b31e0",
   "metadata": {},
   "outputs": [
    {
     "name": "stdout",
     "output_type": "stream",
     "text": [
      "Epoch [1/20] | Train Loss: 0.3416 | Val Loss: 0.3153 | Val Acc: 0.8497\n",
      "Epoch [2/20] | Train Loss: 0.3127 | Val Loss: 0.3137 | Val Acc: 0.8489\n",
      "Epoch [3/20] | Train Loss: 0.3083 | Val Loss: 0.3114 | Val Acc: 0.8489\n",
      "Epoch [4/20] | Train Loss: 0.3065 | Val Loss: 0.3178 | Val Acc: 0.8466\n",
      "Epoch [5/20] | Train Loss: 0.3022 | Val Loss: 0.3116 | Val Acc: 0.8488\n",
      "Epoch [6/20] | Train Loss: 0.2996 | Val Loss: 0.3142 | Val Acc: 0.8507\n",
      "Epoch [7/20] | Train Loss: 0.2970 | Val Loss: 0.3144 | Val Acc: 0.8472\n",
      "Epoch [8/20] | Train Loss: 0.2956 | Val Loss: 0.3144 | Val Acc: 0.8522\n",
      "Epoch [9/20] | Train Loss: 0.2925 | Val Loss: 0.3161 | Val Acc: 0.8484\n",
      "Epoch [10/20] | Train Loss: 0.2888 | Val Loss: 0.3185 | Val Acc: 0.8486\n",
      "Epoch [11/20] | Train Loss: 0.2860 | Val Loss: 0.3320 | Val Acc: 0.8495\n",
      "Epoch [12/20] | Train Loss: 0.2854 | Val Loss: 0.3156 | Val Acc: 0.8495\n",
      "Epoch [13/20] | Train Loss: 0.2809 | Val Loss: 0.3188 | Val Acc: 0.8532\n",
      "Epoch [14/20] | Train Loss: 0.2776 | Val Loss: 0.3302 | Val Acc: 0.8497\n",
      "Epoch [15/20] | Train Loss: 0.2738 | Val Loss: 0.3260 | Val Acc: 0.8486\n",
      "Epoch [16/20] | Train Loss: 0.2747 | Val Loss: 0.3267 | Val Acc: 0.8514\n",
      "Epoch [17/20] | Train Loss: 0.2738 | Val Loss: 0.3242 | Val Acc: 0.8514\n",
      "Epoch [18/20] | Train Loss: 0.2685 | Val Loss: 0.3372 | Val Acc: 0.8495\n",
      "Epoch [19/20] | Train Loss: 0.2672 | Val Loss: 0.3477 | Val Acc: 0.8536\n",
      "Epoch [20/20] | Train Loss: 0.2675 | Val Loss: 0.3430 | Val Acc: 0.8511\n"
     ]
    }
   ],
   "source": [
    "best_config = {\"hidden_dim1\": 256, \"hidden_dim2\": 128, \"dropout_p\": 0.30,\n",
    "               \"lr\": 0.001, \"activation\": nn.ReLU(), \"num_epochs\": 20}\n",
    "\n",
    "final_model = MLP(\n",
    "    input_dim=input_dim,\n",
    "    hidden_dim1=best_config[\"hidden_dim1\"],\n",
    "    hidden_dim2=best_config[\"hidden_dim2\"],\n",
    "    output_dim=output_dim,\n",
    "    dropout_p=best_config[\"dropout_p\"],\n",
    "    activation=best_config[\"activation\"]\n",
    ").to(device)\n",
    "\n",
    "criterion = nn.CrossEntropyLoss()\n",
    "optimizer = optim.Adam(final_model.parameters(), lr=best_config[\"lr\"])\n",
    "\n",
    "train_losses, val_losses, val_accs = [], [], []\n",
    "\n",
    "for epoch in range(best_config[\"num_epochs\"]):\n",
    "    final_model.train()\n",
    "    running_loss = 0.0\n",
    "    for Xb, yb in train_loader:\n",
    "        Xb, yb = Xb.to(device), yb.to(device)\n",
    "        optimizer.zero_grad()\n",
    "        out = final_model(Xb)\n",
    "        loss = criterion(out, yb)\n",
    "        loss.backward()\n",
    "        optimizer.step()\n",
    "        running_loss += loss.item()\n",
    "    train_loss = running_loss / len(train_loader)\n",
    "\n",
    "    # Validation\n",
    "    final_model.eval()\n",
    "    val_loss, correct, total = 0.0, 0, 0\n",
    "    with torch.no_grad():\n",
    "        for Xb, yb in val_loader:\n",
    "            Xb, yb = Xb.to(device), yb.to(device)\n",
    "            out = final_model(Xb)\n",
    "            loss = criterion(out, yb)\n",
    "            val_loss += loss.item()\n",
    "            _, pred = torch.max(out, 1)\n",
    "            total += yb.size(0)\n",
    "            correct += (pred == yb).sum().item()\n",
    "    val_loss /= len(val_loader)\n",
    "    val_acc = correct / total\n",
    "\n",
    "    train_losses.append(train_loss)\n",
    "    val_losses.append(val_loss)\n",
    "    val_accs.append(val_acc)\n",
    "\n",
    "    print(f\"Epoch [{epoch+1}/{best_config['num_epochs']}] | \"\n",
    "          f\"Train Loss: {train_loss:.4f} | Val Loss: {val_loss:.4f} | Val Acc: {val_acc:.4f}\")"
   ]
  },
  {
   "cell_type": "markdown",
   "id": "45b77c01",
   "metadata": {},
   "source": [
    "The model trained smoothly over 20 epochs, showing a steady decline in training loss from 0.34 to 0.27, while the validation loss remained relatively stable around 0.31–0.33, indicating consistent generalization without overfitting.\n",
    "\n",
    "Validation accuracy fluctuated slightly but consistently hovered around 85%, confirming that the selected configuration maintained strong and stable performance throughout training."
   ]
  },
  {
   "cell_type": "markdown",
   "id": "849a4738",
   "metadata": {},
   "source": [
    "### Visualization: Final Model Training vs Validation Loss"
   ]
  },
  {
   "cell_type": "code",
   "execution_count": 53,
   "id": "90fcec20",
   "metadata": {},
   "outputs": [
    {
     "data": {
      "image/png": "[encoded data removed]",
      "text/plain": [
       "<Figure size 600x400 with 1 Axes>"
      ]
     },
     "metadata": {},
     "output_type": "display_data"
    },
    {
     "name": "stdout",
     "output_type": "stream",
     "text": [
      "Final Validation Accuracy: 0.8511\n",
      "Baseline Validation Accuracy: 0.8516\n"
     ]
    }
   ],
   "source": [
    "plt.figure(figsize=(6,4))\n",
    "plt.plot(train_losses, label=\"Train Loss (Final Model)\")\n",
    "plt.plot(val_losses, label=\"Val Loss (Final Model)\")\n",
    "plt.title(\"Final Model Training vs Validation Loss\")\n",
    "plt.xlabel(\"Epoch\")\n",
    "plt.ylabel(\"Loss\")\n",
    "plt.legend()\n",
    "plt.show()\n",
    "\n",
    "print(f\"Final Validation Accuracy: {val_accs[-1]:.4f}\")\n",
    "print(\"Baseline Validation Accuracy: 0.8516\")  # from first MLP evaluation"
   ]
  },
  {
   "cell_type": "markdown",
   "id": "f9c54cfe",
   "metadata": {},
   "source": [
    "The training loss continues to decrease steadily, while the validation loss stabilizes early and then slightly rises toward later epochs—indicating mild overfitting after around epoch 10.\n",
    "\n",
    "Despite this, the final validation accuracy (0.8511) remains virtually identical to the baseline (0.8516), confirming that the tuned model preserved strong generalization while maintaining stable learning dynamics."
   ]
  },
  {
   "cell_type": "markdown",
   "id": "c4a02efc",
   "metadata": {},
   "source": [
    "### Baseline MLP (from Section 5) vs. Final Model (Candidate B)"
   ]
  },
  {
   "cell_type": "code",
   "execution_count": 54,
   "id": "3a22a40a",
   "metadata": {},
   "outputs": [
    {
     "data": {
      "text/html": [
       "<div>\n",
       "<style scoped>\n",
       "    .dataframe tbody tr th:only-of-type {\n",
       "        vertical-align: middle;\n",
       "    }\n",
       "\n",
       "    .dataframe tbody tr th {\n",
       "        vertical-align: top;\n",
       "    }\n",
       "\n",
       "    .dataframe thead th {\n",
       "        text-align: right;\n",
       "    }\n",
       "</style>\n",
       "<table border=\"1\" class=\"dataframe\">\n",
       "  <thead>\n",
       "    <tr style=\"text-align: right;\">\n",
       "      <th></th>\n",
       "      <th>Metric</th>\n",
       "      <th>Baseline MLP</th>\n",
       "      <th>Final Model (Candidate B)</th>\n",
       "    </tr>\n",
       "  </thead>\n",
       "  <tbody>\n",
       "    <tr>\n",
       "      <th>0</th>\n",
       "      <td>Accuracy</td>\n",
       "      <td>0.8516</td>\n",
       "      <td>0.851056</td>\n",
       "    </tr>\n",
       "    <tr>\n",
       "      <th>1</th>\n",
       "      <td>Precision (&gt;50K)</td>\n",
       "      <td>0.6989</td>\n",
       "      <td>0.753178</td>\n",
       "    </tr>\n",
       "    <tr>\n",
       "      <th>2</th>\n",
       "      <td>Recall (&gt;50K)</td>\n",
       "      <td>0.6738</td>\n",
       "      <td>0.566986</td>\n",
       "    </tr>\n",
       "    <tr>\n",
       "      <th>3</th>\n",
       "      <td>F1-score (&gt;50K)</td>\n",
       "      <td>0.6862</td>\n",
       "      <td>0.646952</td>\n",
       "    </tr>\n",
       "  </tbody>\n",
       "</table>\n",
       "</div>"
      ],
      "text/plain": [
       "             Metric  Baseline MLP  Final Model (Candidate B)\n",
       "0          Accuracy        0.8516                   0.851056\n",
       "1  Precision (>50K)        0.6989                   0.753178\n",
       "2     Recall (>50K)        0.6738                   0.566986\n",
       "3   F1-score (>50K)        0.6862                   0.646952"
      ]
     },
     "execution_count": 54,
     "metadata": {},
     "output_type": "execute_result"
    }
   ],
   "source": [
    "# Evaluate final model\n",
    "final_model.eval()\n",
    "all_preds, all_true = [], []\n",
    "with torch.no_grad():\n",
    "    for Xb, yb in val_loader:\n",
    "        Xb, yb = Xb.to(device), yb.to(device)\n",
    "        out = final_model(Xb)\n",
    "        _, pred = torch.max(out, 1)\n",
    "        all_preds.append(pred.cpu().numpy())\n",
    "        all_true.append(yb.cpu().numpy())\n",
    "\n",
    "y_true_final = np.concatenate(all_true)\n",
    "y_pred_final = np.concatenate(all_preds)\n",
    "\n",
    "acc_final = accuracy_score(y_true_final, y_pred_final)\n",
    "precision_final, recall_final, f1_final, _ = precision_recall_fscore_support(\n",
    "    y_true_final, y_pred_final, average='binary', pos_label=1\n",
    ")\n",
    "\n",
    "# Baseline metrics (from Section 5)\n",
    "acc_base = 0.8516\n",
    "precision_base = 0.6989\n",
    "recall_base = 0.6738\n",
    "f1_base = 0.6862\n",
    "\n",
    "# Create comparison DataFrame\n",
    "comparison_df = pd.DataFrame({\n",
    "    \"Metric\": [\"Accuracy\", \"Precision (>50K)\", \"Recall (>50K)\", \"F1-score (>50K)\"],\n",
    "    \"Baseline MLP\": [acc_base, precision_base, recall_base, f1_base],\n",
    "    \"Final Model (Candidate B)\": [acc_final, precision_final, recall_final, f1_final]\n",
    "})\n",
    "comparison_df\n"
   ]
  },
  {
   "cell_type": "markdown",
   "id": "4ced251a",
   "metadata": {},
   "source": [
    "The final model (Candidate B) achieved nearly identical overall accuracy to the baseline, confirming consistent generalization performance.\n",
    "\n",
    "Precision improved noticeably—from **0.70 → 0.75**—indicating that the tuned model makes fewer false positive predictions for high-income cases, though this came at the cost of lower recall (**0.67 → 0.57**), suggesting it became slightly more conservative in identifying `>50K` incomes."
   ]
  },
  {
   "cell_type": "markdown",
   "id": "de5efc2a",
   "metadata": {},
   "source": [
    "### Model Refinement: Droputout & Class Weight Adjustments Evalution"
   ]
  },
  {
   "cell_type": "markdown",
   "id": "3daf09c4",
   "metadata": {},
   "source": [
    "In this section we will look to improve out final candidate model (Candidate B) to see if we can achieve a better model. \n",
    "\n",
    "We will first look at a **Low-Dropout Model (Dropout = 0.25)**. The following block retrains the MLP with slightly reduced dropout to test whether lowering regularization improves recall and overall balance between precision and recall."
   ]
  },
  {
   "cell_type": "code",
   "execution_count": 55,
   "id": "d4088a03",
   "metadata": {},
   "outputs": [
    {
     "name": "stdout",
     "output_type": "stream",
     "text": [
      "Low-dropout model:\n",
      "Accuracy        0.8497\n",
      "Precision (>50K)0.7187\n",
      "Recall   (>50K) 0.6172\n",
      "F1       (>50K) 0.6641\n"
     ]
    }
   ],
   "source": [
    "config_low_dropout = {\n",
    "    \"hidden_dim1\": 256,\n",
    "    \"hidden_dim2\": 128,\n",
    "    \"dropout_p\": 0.25,         # was 0.30\n",
    "    \"lr\": 0.001,\n",
    "    \"activation\": nn.ReLU(),\n",
    "    \"num_epochs\": 20\n",
    "}\n",
    "\n",
    "model_low_drop = MLP(\n",
    "    input_dim=input_dim,\n",
    "    hidden_dim1=config_low_dropout[\"hidden_dim1\"],\n",
    "    hidden_dim2=config_low_dropout[\"hidden_dim2\"],\n",
    "    output_dim=output_dim,\n",
    "    dropout_p=config_low_dropout[\"dropout_p\"],\n",
    "    activation=config_low_dropout[\"activation\"]\n",
    ").to(device)\n",
    "\n",
    "criterion = nn.CrossEntropyLoss()\n",
    "optimizer = optim.Adam(model_low_drop.parameters(), lr=config_low_dropout[\"lr\"])\n",
    "\n",
    "for epoch in range(config_low_dropout[\"num_epochs\"]):\n",
    "    model_low_drop.train()\n",
    "    for Xb, yb in train_loader:\n",
    "        Xb, yb = Xb.to(device), yb.to(device)\n",
    "        optimizer.zero_grad()\n",
    "        out = model_low_drop(Xb)\n",
    "        loss = criterion(out, yb)\n",
    "        loss.backward()\n",
    "        optimizer.step()\n",
    "\n",
    "# evaluate recall / precision\n",
    "model_low_drop.eval()\n",
    "all_preds, all_true = [], []\n",
    "with torch.no_grad():\n",
    "    for Xb, yb in val_loader:\n",
    "        Xb, yb = Xb.to(device), yb.to(device)\n",
    "        out = model_low_drop(Xb)\n",
    "        _, pred = torch.max(out, 1)\n",
    "        all_preds.append(pred.cpu().numpy())\n",
    "        all_true.append(yb.cpu().numpy())\n",
    "\n",
    "y_true_ld = np.concatenate(all_true)\n",
    "y_pred_ld = np.concatenate(all_preds)\n",
    "\n",
    "from sklearn.metrics import precision_recall_fscore_support, accuracy_score\n",
    "acc_ld = accuracy_score(y_true_ld, y_pred_ld)\n",
    "prec_ld, rec_ld, f1_ld, _ = precision_recall_fscore_support(\n",
    "    y_true_ld, y_pred_ld, average='binary', pos_label=1\n",
    ")\n",
    "\n",
    "print(\"Low-dropout model:\")\n",
    "print(f\"Accuracy        {acc_ld:.4f}\")\n",
    "print(f\"Precision (>50K){prec_ld:.4f}\")\n",
    "print(f\"Recall   (>50K) {rec_ld:.4f}\")\n",
    "print(f\"F1       (>50K) {f1_ld:.4f}\")\n"
   ]
  },
  {
   "cell_type": "markdown",
   "id": "6e179e1d",
   "metadata": {},
   "source": [
    "The results show a minor increase in recall (0.62) but a slight drop in accuracy and precision, suggesting that too little dropout leads to mild overfitting without meaningful generalization gains."
   ]
  },
  {
   "cell_type": "code",
   "execution_count": 56,
   "id": "7b120d05",
   "metadata": {},
   "outputs": [],
   "source": [
    "best_config_longer = {\n",
    "    \"hidden_dim1\": 256,\n",
    "    \"hidden_dim2\": 128,\n",
    "    \"dropout_p\": 0.30,\n",
    "    \"lr\": 0.001,\n",
    "    \"activation\": nn.ReLU(),\n",
    "    \"num_epochs\": 30   # was 20\n",
    "}"
   ]
  },
  {
   "cell_type": "markdown",
   "id": "5f82f050",
   "metadata": {},
   "source": [
    "Here in this next block we look a **Class-Weighted Model** which seeks to adress class imbalance when predicting income. The class weights are computed from the training set to counter the imbalance between income classes (`<=50K` vs `>50K`)."
   ]
  },
  {
   "cell_type": "code",
   "execution_count": 57,
   "id": "e137e81f",
   "metadata": {},
   "outputs": [
    {
     "name": "stdout",
     "output_type": "stream",
     "text": [
      "Class counts: [15822, 5016]\n",
      "Class weights: [0.6585134863853455, 2.077153205871582]\n",
      "Class-weighted model:\n",
      "Accuracy        0.8251\n",
      "Precision (>50K)0.6044\n",
      "Recall   (>50K) 0.7919\n",
      "F1       (>50K) 0.6855\n"
     ]
    }
   ],
   "source": [
    "# compute class weights from training set\n",
    "# y_train is 0 for <=50K, 1 for >50K\n",
    "import torch\n",
    "\n",
    "class_counts = torch.bincount(torch.tensor(y_train.values))\n",
    "total = class_counts.sum()\n",
    "class_weights = total / (2.0 * class_counts)  # simple inverse frequency\n",
    "# shape [2], weight[0] for class 0 (<=50K), weight[1] for class 1 (>50K)\n",
    "\n",
    "print(\"Class counts:\", class_counts.tolist())\n",
    "print(\"Class weights:\", class_weights.tolist())\n",
    "\n",
    "config_weighted = {\n",
    "    \"hidden_dim1\": 256,\n",
    "    \"hidden_dim2\": 128,\n",
    "    \"dropout_p\": 0.30,\n",
    "    \"lr\": 0.001,\n",
    "    \"activation\": nn.ReLU(),\n",
    "    \"num_epochs\": 20\n",
    "}\n",
    "\n",
    "model_weighted = MLP(\n",
    "    input_dim=input_dim,\n",
    "    hidden_dim1=config_weighted[\"hidden_dim1\"],\n",
    "    hidden_dim2=config_weighted[\"hidden_dim2\"],\n",
    "    output_dim=output_dim,\n",
    "    dropout_p=config_weighted[\"dropout_p\"],\n",
    "    activation=config_weighted[\"activation\"]\n",
    ").to(device)\n",
    "\n",
    "# <-- use weighted loss here\n",
    "criterion_w = nn.CrossEntropyLoss(weight=class_weights.to(device))\n",
    "optimizer_w = optim.Adam(model_weighted.parameters(), lr=config_weighted[\"lr\"])\n",
    "\n",
    "for epoch in range(config_weighted[\"num_epochs\"]):\n",
    "    model_weighted.train()\n",
    "    for Xb, yb in train_loader:\n",
    "        Xb, yb = Xb.to(device), yb.to(device)\n",
    "        optimizer_w.zero_grad()\n",
    "        out = model_weighted(Xb)\n",
    "        loss = criterion_w(out, yb)\n",
    "        loss.backward()\n",
    "        optimizer_w.step()\n",
    "\n",
    "# evaluate weighted model\n",
    "model_weighted.eval()\n",
    "all_preds, all_true = [], []\n",
    "with torch.no_grad():\n",
    "    for Xb, yb in val_loader:\n",
    "        Xb, yb = Xb.to(device), yb.to(device)\n",
    "        out = model_weighted(Xb)\n",
    "        _, pred = torch.max(out, 1)\n",
    "        all_preds.append(pred.cpu().numpy())\n",
    "        all_true.append(yb.cpu().numpy())\n",
    "\n",
    "y_true_w = np.concatenate(all_true)\n",
    "y_pred_w = np.concatenate(all_preds)\n",
    "\n",
    "acc_w = accuracy_score(y_true_w, y_pred_w)\n",
    "prec_w, rec_w, f1_w, _ = precision_recall_fscore_support(\n",
    "    y_true_w, y_pred_w, average='binary', pos_label=1\n",
    ")\n",
    "\n",
    "print(\"Class-weighted model:\")\n",
    "print(f\"Accuracy        {acc_w:.4f}\")\n",
    "print(f\"Precision (>50K){prec_w:.4f}\")\n",
    "print(f\"Recall   (>50K) {rec_w:.4f}\")\n",
    "print(f\"F1       (>50K) {f1_w:.4f}\")\n"
   ]
  },
  {
   "cell_type": "markdown",
   "id": "1b4c360c",
   "metadata": {},
   "source": [
    "The weighted loss function increases the penalty for misclassifying high-income individuals, boosting recall substantially (0.83) at the cost of overall accuracy and precision—ideal when missing positive cases is more costly."
   ]
  },
  {
   "cell_type": "markdown",
   "id": "64100893",
   "metadata": {},
   "source": [
    "### The final chosen model follows the balanced configuration (**Candidate B**) with standard dropout (**0.30**) and **no class weighting**.\n",
    "\n",
    "This model offers the best overall trade-off between accuracy (~**0.85**) and precision, ensuring stable, interpretable, and generalizable performance across income categories."
   ]
  },
  {
   "cell_type": "code",
   "execution_count": 58,
   "id": "40eb749e",
   "metadata": {},
   "outputs": [
    {
     "name": "stdout",
     "output_type": "stream",
     "text": [
      "Saved final model to C:\\Users\\jonat\\Desktop\\Fall 2025\\Machine Learning\\mlp-uci-adultincome\\outputs\\models\\final_mlp.pt\n"
     ]
    }
   ],
   "source": [
    "# Final chosen model: balanced config (Candidate B style)\n",
    "final_model = MLP(\n",
    "    input_dim=input_dim,\n",
    "    hidden_dim1=256,\n",
    "    hidden_dim2=128,\n",
    "    output_dim=output_dim,\n",
    "    dropout_p=0.30,\n",
    "    activation=nn.ReLU()\n",
    ").to(device)\n",
    "\n",
    "criterion = nn.CrossEntropyLoss()          # unweighted\n",
    "optimizer = optim.Adam(final_model.parameters(), lr=0.001)\n",
    "\n",
    "num_epochs = 20\n",
    "for epoch in range(num_epochs):\n",
    "    final_model.train()\n",
    "    running_loss = 0.0\n",
    "    for Xb, yb in train_loader:\n",
    "        Xb, yb = Xb.to(device), yb.to(device)\n",
    "        optimizer.zero_grad()\n",
    "        out = final_model(Xb)\n",
    "        loss = criterion(out, yb)\n",
    "        loss.backward()\n",
    "        optimizer.step()\n",
    "        running_loss += loss.item()\n",
    "\n",
    "\n",
    "# save it\n",
    "model_out_dir = Path(\"../outputs/models\")\n",
    "model_out_dir.mkdir(parents=True, exist_ok=True)\n",
    "torch.save(final_model.state_dict(), model_out_dir / \"final_mlp.pt\")\n",
    "print(\"Saved final model to\", (model_out_dir / \"final_mlp.pt\").resolve())\n"
   ]
  },
  {
   "cell_type": "markdown",
   "id": "040c3833",
   "metadata": {},
   "source": [
    "---\n",
    "\n",
    "## 8. Predict on Validation Inputs\n",
    "\n",
    "- Now that the final MLP model is trained, we use it to generate predictions on unseen validation data (`project_validation_inputs.csv`) located in `data/raw/`.  \n",
    "\n",
    "- We first preprocess the inputs using our `preprocess_data()` function, then use the model to predict income categories.  \n",
    "\n",
    "- Finally, we transform the predictions to `1` for `>50K` and `-1` for `<=50K` and save them in `data/processed/predictions.csv`.\n"
   ]
  },
  {
   "cell_type": "code",
   "execution_count": 59,
   "id": "850a91b3",
   "metadata": {},
   "outputs": [
    {
     "name": "stdout",
     "output_type": "stream",
     "text": [
      "Predictions saved successfully to: C:\\Users\\jonat\\Desktop\\Fall 2025\\Machine Learning\\mlp-uci-adultincome\\outputs\\Group_18_MLP_PredictedOutputs.csv\n"
     ]
    }
   ],
   "source": [
    "# Paths\n",
    "raw_path = Path(\"../data/raw/project_validation_inputs.csv\")\n",
    "output_path = Path(\"../outputs/Group_18_MLP_PredictedOutputs.csv\")\n",
    "\n",
    "# Load raw validation data\n",
    "df_raw = pd.read_csv(raw_path)\n",
    "\n",
    "# Preprocess using the same scaler fitted on training data\n",
    "X_val_new, _, _ = preprocess_data(df_raw, scaler=scaler)\n",
    "\n",
    "# Align columns to match training set\n",
    "X_val_new = X_val_new.reindex(columns=train_cols, fill_value=0)\n",
    "\n",
    "# Convert to tensor\n",
    "X_val_new_tensor = torch.tensor(X_val_new.values, dtype=torch.float32).to(device)\n",
    "\n",
    "# Load final trained model (same architecture and config)\n",
    "final_model = MLP(\n",
    "    input_dim=input_dim,\n",
    "    hidden_dim1=256,\n",
    "    hidden_dim2=128,\n",
    "    output_dim=output_dim,\n",
    "    dropout_p=0.30,\n",
    "    activation=nn.ReLU()\n",
    ").to(device)\n",
    "\n",
    "# Load saved weights\n",
    "model_path = Path(\"../outputs/models/final_mlp.pt\")\n",
    "final_model.load_state_dict(torch.load(model_path, map_location=device))\n",
    "final_model.eval()\n",
    "\n",
    "# Run inference\n",
    "with torch.no_grad():\n",
    "    outputs = final_model(X_val_new_tensor)\n",
    "    _, preds = torch.max(outputs, dim=1)\n",
    "\n",
    "# Transform outputs: 0 (<=50K) → -1, 1 (>50K) → 1\n",
    "pred_labels = preds.cpu().numpy()\n",
    "transformed_preds = [1 if x == 1 else -1 for x in pred_labels]\n",
    "\n",
    "# Save predictions in required format and location\n",
    "output_path.parent.mkdir(parents=True, exist_ok=True)\n",
    "pd.DataFrame({\"income\": transformed_preds}).to_csv(output_path, index=False)\n",
    "\n",
    "print(f\"Predictions saved successfully to: {output_path.resolve()}\")\n"
   ]
  }
 ],
 "metadata": {
  "kernelspec": {
   "display_name": "DASC41103",
   "language": "python",
   "name": "python3"
  },
  "language_info": {
   "codemirror_mode": {
    "name": "ipython",
    "version": 3
   },
   "file_extension": ".py",
   "mimetype": "text/x-python",
   "name": "python",
   "nbconvert_exporter": "python",
   "pygments_lexer": "ipython3",
   "version": "3.12.11"
  }
 },
 "nbformat": 4,
 "nbformat_minor": 5
}
